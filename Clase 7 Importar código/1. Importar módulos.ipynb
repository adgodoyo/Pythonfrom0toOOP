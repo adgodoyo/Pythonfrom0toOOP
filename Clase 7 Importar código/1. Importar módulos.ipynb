{
  "cells": [
    {
      "cell_type": "markdown",
      "metadata": {
        "id": "F0z1Pd9qv465"
      },
      "source": [
        "# **Caso 1: importar todo el código con raiz**"
      ]
    },
    {
      "cell_type": "code",
      "execution_count": 1,
      "metadata": {
        "id": "xriE8dKWwHdI"
      },
      "outputs": [],
      "source": [
        "import origen #Este es un archivo .py que estamos importando"
      ]
    },
    {
      "cell_type": "code",
      "execution_count": 2,
      "metadata": {
        "colab": {
          "base_uri": "https://localhost:8080/"
        },
        "id": "wqEJouN2vIQH",
        "outputId": "a5647e70-9989-4f09-e128-36e69fb9fa7e"
      },
      "outputs": [
        {
          "data": {
            "text/plain": [
              "315486254"
            ]
          },
          "execution_count": 2,
          "metadata": {},
          "output_type": "execute_result"
        }
      ],
      "source": [
        "origen.mi_caja"
      ]
    },
    {
      "cell_type": "code",
      "execution_count": 3,
      "metadata": {
        "colab": {
          "base_uri": "https://localhost:8080/"
        },
        "id": "8SWXJ8Lyw3so",
        "outputId": "0a781097-4404-489c-b42b-483021ec7f17"
      },
      "outputs": [
        {
          "name": "stdout",
          "output_type": "stream",
          "text": [
            "Hola, buenos días, han avanzado harto\n"
          ]
        }
      ],
      "source": [
        "origen.yo_saludo()"
      ]
    },
    {
      "cell_type": "code",
      "execution_count": 4,
      "metadata": {
        "id": "LvEpDVP6xBSo"
      },
      "outputs": [],
      "source": [
        "# a importa una clase y luego vamos a crear objet a partir de esa clase\n",
        "laura=origen.Estudiantes(\"laura\", \"laura2\")"
      ]
    },
    {
      "cell_type": "code",
      "execution_count": 5,
      "metadata": {
        "colab": {
          "base_uri": "https://localhost:8080/"
        },
        "id": "igf3yVhpxpgI",
        "outputId": "5fa69fd8-583c-4632-aa86-d41ab896631a"
      },
      "outputs": [
        {
          "name": "stdout",
          "output_type": "stream",
          "text": [
            "qué más\n"
          ]
        }
      ],
      "source": [
        "laura.saludar()"
      ]
    },
    {
      "cell_type": "code",
      "execution_count": 6,
      "metadata": {
        "colab": {
          "base_uri": "https://localhost:8080/",
          "height": 35
        },
        "id": "cse885JeZb8F",
        "outputId": "64006402-35a1-407a-f791-7a8fb37d1bdc"
      },
      "outputs": [
        {
          "data": {
            "application/vnd.google.colaboratory.intrinsic+json": {
              "type": "string"
            },
            "text/plain": [
              "'laura'"
            ]
          },
          "execution_count": 6,
          "metadata": {},
          "output_type": "execute_result"
        }
      ],
      "source": [
        "laura.name"
      ]
    },
    {
      "cell_type": "code",
      "execution_count": 7,
      "metadata": {
        "colab": {
          "base_uri": "https://localhost:8080/",
          "height": 35
        },
        "id": "1ny1Zf4jZbp6",
        "outputId": "f1768b19-37a9-48ea-d891-d8a71d8cafcd"
      },
      "outputs": [
        {
          "data": {
            "application/vnd.google.colaboratory.intrinsic+json": {
              "type": "string"
            },
            "text/plain": [
              "'laura2@unisabana.edu.co'"
            ]
          },
          "execution_count": 7,
          "metadata": {},
          "output_type": "execute_result"
        }
      ],
      "source": [
        "laura.mail"
      ]
    },
    {
      "cell_type": "markdown",
      "metadata": {
        "id": "LMsImC6Dx7yn"
      },
      "source": [
        "# **Caso 2: importar todo el módulo con un alias**"
      ]
    },
    {
      "cell_type": "code",
      "execution_count": 8,
      "metadata": {
        "id": "g463AUl_ycXY"
      },
      "outputs": [],
      "source": [
        "import origen as og"
      ]
    },
    {
      "cell_type": "code",
      "execution_count": 9,
      "metadata": {
        "colab": {
          "base_uri": "https://localhost:8080/"
        },
        "id": "fZAogqbwy0Uo",
        "outputId": "e0cfa6ef-97bd-4c06-8fc3-6ccb6b3f02b0"
      },
      "outputs": [
        {
          "data": {
            "text/plain": [
              "315486254"
            ]
          },
          "execution_count": 9,
          "metadata": {},
          "output_type": "execute_result"
        }
      ],
      "source": [
        "og.mi_caja"
      ]
    },
    {
      "cell_type": "code",
      "execution_count": 10,
      "metadata": {
        "colab": {
          "base_uri": "https://localhost:8080/"
        },
        "id": "JEDR11k_y224",
        "outputId": "df38cc22-6420-4a6f-d761-f0f6b0278727"
      },
      "outputs": [
        {
          "name": "stdout",
          "output_type": "stream",
          "text": [
            "Hola, buenos días, han avanzado harto\n"
          ]
        }
      ],
      "source": [
        "og.yo_saludo()"
      ]
    },
    {
      "cell_type": "code",
      "execution_count": 12,
      "metadata": {
        "id": "6i8NL_vmy7d4"
      },
      "outputs": [],
      "source": [
        "juan=og.Estudiantes(\"juan\",\"juanito2\")"
      ]
    },
    {
      "cell_type": "markdown",
      "metadata": {
        "id": "WnEBAfenzkA4"
      },
      "source": [
        "# **Caso 3: importar algunos objetos puntuales**"
      ]
    },
    {
      "cell_type": "code",
      "execution_count": 13,
      "metadata": {
        "colab": {
          "base_uri": "https://localhost:8080/",
          "height": 141
        },
        "id": "D0NWIIn8zov_",
        "outputId": "ffc02c5c-d9aa-411b-c8b5-73cd802f1d7f"
      },
      "outputs": [
        {
          "ename": "NameError",
          "evalue": "name 'mi_caja' is not defined",
          "output_type": "error",
          "traceback": [
            "\u001b[0;31m---------------------------------------------------------------------------\u001b[0m",
            "\u001b[0;31mNameError\u001b[0m                                 Traceback (most recent call last)",
            "\u001b[0;32m<ipython-input-13-fe34085afb58>\u001b[0m in \u001b[0;36m<cell line: 1>\u001b[0;34m()\u001b[0m\n\u001b[0;32m----> 1\u001b[0;31m \u001b[0mmi_caja\u001b[0m\u001b[0;34m\u001b[0m\u001b[0;34m\u001b[0m\u001b[0m\n\u001b[0m",
            "\u001b[0;31mNameError\u001b[0m: name 'mi_caja' is not defined"
          ]
        }
      ],
      "source": [
        "mi_caja"
      ]
    },
    {
      "cell_type": "code",
      "execution_count": 15,
      "metadata": {
        "id": "gVPkTrCOz0N4"
      },
      "outputs": [],
      "source": [
        "from origen import mi_caja, yo_saludo, Estudiantes"
      ]
    },
    {
      "cell_type": "code",
      "execution_count": 16,
      "metadata": {
        "colab": {
          "base_uri": "https://localhost:8080/"
        },
        "id": "GtBlaIFw0WLA",
        "outputId": "7bff18dc-255f-46ba-a621-9ab000b98496"
      },
      "outputs": [
        {
          "data": {
            "text/plain": [
              "315486254"
            ]
          },
          "execution_count": 16,
          "metadata": {},
          "output_type": "execute_result"
        }
      ],
      "source": [
        "mi_caja #la puedo llamar sin prefijo"
      ]
    },
    {
      "cell_type": "code",
      "execution_count": 17,
      "metadata": {
        "colab": {
          "base_uri": "https://localhost:8080/"
        },
        "id": "kL9Pqzy90X4g",
        "outputId": "b88e39c0-dd25-491a-a54b-4d2383a7613a"
      },
      "outputs": [
        {
          "name": "stdout",
          "output_type": "stream",
          "text": [
            "Hola, buenos días, han avanzado harto\n"
          ]
        }
      ],
      "source": [
        "yo_saludo()"
      ]
    },
    {
      "cell_type": "code",
      "execution_count": 18,
      "metadata": {
        "colab": {
          "base_uri": "https://localhost:8080/",
          "height": 141
        },
        "id": "0Z7mcw8b0k6A",
        "outputId": "b60f8712-f9a5-4796-9e75-46efae75ae7b"
      },
      "outputs": [
        {
          "ename": "NameError",
          "evalue": "name 'mi_texto' is not defined",
          "output_type": "error",
          "traceback": [
            "\u001b[0;31m---------------------------------------------------------------------------\u001b[0m",
            "\u001b[0;31mNameError\u001b[0m                                 Traceback (most recent call last)",
            "\u001b[0;32m<ipython-input-18-e09041ac00c1>\u001b[0m in \u001b[0;36m<cell line: 1>\u001b[0;34m()\u001b[0m\n\u001b[0;32m----> 1\u001b[0;31m \u001b[0mmi_texto\u001b[0m \u001b[0;31m# Este objeto no se eligió importar\u001b[0m\u001b[0;34m\u001b[0m\u001b[0;34m\u001b[0m\u001b[0m\n\u001b[0m",
            "\u001b[0;31mNameError\u001b[0m: name 'mi_texto' is not defined"
          ]
        }
      ],
      "source": [
        "mi_texto # Este objeto no se eligió importar"
      ]
    },
    {
      "cell_type": "code",
      "execution_count": 19,
      "metadata": {
        "colab": {
          "base_uri": "https://localhost:8080/",
          "height": 35
        },
        "id": "xqAAWzzTbBdW",
        "outputId": "3def10a5-39fd-4419-d0b4-799a37e444b5"
      },
      "outputs": [
        {
          "data": {
            "application/vnd.google.colaboratory.intrinsic+json": {
              "type": "string"
            },
            "text/plain": [
              "'este es un texto creado en otro script'"
            ]
          },
          "execution_count": 19,
          "metadata": {},
          "output_type": "execute_result"
        }
      ],
      "source": [
        "og.mi_texto #se requiere entonces prefijo"
      ]
    },
    {
      "cell_type": "markdown",
      "metadata": {
        "id": "e1aXYPO30tAA"
      },
      "source": [
        "# **Caso 4: Importar todo a las malas y sin pensar en las consecuencias (remplazar objetos existentes con objetos que vienen del módulo)**"
      ]
    },
    {
      "cell_type": "code",
      "execution_count": 20,
      "metadata": {
        "id": "LJNPzpRI0ySQ"
      },
      "outputs": [],
      "source": [
        "from origen import *"
      ]
    },
    {
      "cell_type": "code",
      "execution_count": 21,
      "metadata": {
        "colab": {
          "base_uri": "https://localhost:8080/",
          "height": 35
        },
        "id": "fa8xjQPU1Bpf",
        "outputId": "500b726f-951c-45a1-8a40-304b11e6767e"
      },
      "outputs": [
        {
          "data": {
            "application/vnd.google.colaboratory.intrinsic+json": {
              "type": "string"
            },
            "text/plain": [
              "'este es un texto creado en otro script'"
            ]
          },
          "execution_count": 21,
          "metadata": {},
          "output_type": "execute_result"
        }
      ],
      "source": [
        "mi_texto"
      ]
    },
    {
      "cell_type": "code",
      "execution_count": 22,
      "metadata": {
        "colab": {
          "base_uri": "https://localhost:8080/"
        },
        "id": "WuJqa4XA1GPg",
        "outputId": "7f87475c-b608-4d3d-caa0-1559d6887501"
      },
      "outputs": [
        {
          "name": "stdout",
          "output_type": "stream",
          "text": [
            "Hola, buenos días, han avanzado harto\n"
          ]
        }
      ],
      "source": [
        "yo_saludo()"
      ]
    },
    {
      "cell_type": "markdown",
      "metadata": {},
      "source": [
        "# AUTOR"
      ]
    },
    {
      "cell_type": "markdown",
      "metadata": {},
      "source": [
        "**Andrés Daniel Godoy Ortiz**\n",
        "\n",
        "Docente Universidad Externado de Colombia y Universidad de la Sabana"
      ]
    }
  ],
  "metadata": {
    "colab": {
      "provenance": []
    },
    "kernelspec": {
      "display_name": "Python 3",
      "name": "python3"
    },
    "language_info": {
      "name": "python"
    }
  },
  "nbformat": 4,
  "nbformat_minor": 0
}
