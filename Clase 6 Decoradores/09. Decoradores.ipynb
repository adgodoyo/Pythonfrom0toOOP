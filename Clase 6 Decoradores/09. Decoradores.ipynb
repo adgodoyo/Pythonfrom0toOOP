{
 "cells": [
  {
   "cell_type": "markdown",
   "id": "f9fcd37c",
   "metadata": {},
   "source": [
    "# Decoradores"
   ]
  },
  {
   "cell_type": "markdown",
   "id": "9c898d17",
   "metadata": {},
   "source": [
    "Un decorador es una función de orden superior (función de funciones) que toma otra función como argumento y devuelve una nueva función. \n",
    "\n",
    "input --> | Cajita transformadora | --> output\n",
    "\n",
    "función_original --> | Decorador | --> Función_nueva\n",
    "\n",
    "Esta nueva función, denominada `envoltorio`, generalmente incluye alguna forma de funcionalidad adicional que se ejecuta antes o después de la función argumento. El objetivo principal de los decoradores es extender o modificar el comportamiento de la función argumento de manera limpia y reutilizable, sin alterar su código fuente."
   ]
  },
  {
   "cell_type": "markdown",
   "id": "e51e9faa",
   "metadata": {},
   "source": [
    "Los decoradores son útiles para:\n",
    "\n",
    "• Agregar funcionalidades de forma transparente a las funciones existentes (por ejemplo, registro, manejo de excepciones, verificación de permisos, caching, etc.).\n",
    "\n",
    "• Modificar el comportamiento de una función de manera dinámica.\n",
    "\n",
    "• Facilitar la separación de preocupaciones y mejorar la legibilidad del código al separar la funcionalidad principal de aspectos adicionales como el logging o la autenticación.\n",
    "\n",
    "En Python, los decoradores se aplican con el **símbolo @**, seguido del nombre del decorador, ubicado justo antes de la definición de la función que se desea decorar. Esta sintaxis es solo una forma azucarada (syntactic sugar) para aplicar una función decoradora."
   ]
  },
  {
   "cell_type": "markdown",
   "id": "950f3b39",
   "metadata": {},
   "source": [
    "Primero veamos ejemplos, tratemos de entenderlos y al final está la sintáxis general..."
   ]
  },
  {
   "cell_type": "code",
   "execution_count": 1,
   "id": "5da05029",
   "metadata": {},
   "outputs": [],
   "source": [
    "user_authenticated = True  # Supongamos que el usuario está autenticado\n",
    "#Los decoradores en Python son una herramienta poderosa para abstraer funcionalidades como la autenticación de usuarios. \n",
    "def require_authentication(func): #El decorador \"require_authentication\" toma como argumento \"func\"\n",
    "    def wrapper(*args, **kwargs): #y el decorador retorna esta nueva función que estamos definiendo\n",
    "              \n",
    "        if user_authenticated:\n",
    "            return func(*args, **kwargs) # función original\n",
    "        else:\n",
    "            raise Exception(\"Usuario no autenticado. Acceso denegado.\")\n",
    "    \n",
    "    return wrapper  #Como señalo arriba lo que retorna el decorador es esta nueva función\n",
    "\n",
    "@require_authentication\n",
    "def view_dashboard():\n",
    "    return \"Dashboard visible para el usuario.\"\n",
    "\n",
    "@require_authentication\n",
    "def change_settings():\n",
    "    return \"Ajustes modificados por el usuario.\"\n",
    "\n",
    "@require_authentication\n",
    "def view_profile():\n",
    "    return \"Perfil del usuario.\"\n"
   ]
  },
  {
   "cell_type": "code",
   "execution_count": 2,
   "id": "4b6960e5",
   "metadata": {},
   "outputs": [
    {
     "data": {
      "text/plain": [
       "'Dashboard visible para el usuario.'"
      ]
     },
     "execution_count": 2,
     "metadata": {},
     "output_type": "execute_result"
    }
   ],
   "source": [
    "view_dashboard()"
   ]
  },
  {
   "cell_type": "code",
   "execution_count": 3,
   "id": "39239dd6",
   "metadata": {},
   "outputs": [
    {
     "ename": "Exception",
     "evalue": "Usuario no autenticado. Acceso denegado.",
     "output_type": "error",
     "traceback": [
      "\u001b[1;31m---------------------------------------------------------------------------\u001b[0m",
      "\u001b[1;31mException\u001b[0m                                 Traceback (most recent call last)",
      "Cell \u001b[1;32mIn[3], line 2\u001b[0m\n\u001b[0;32m      1\u001b[0m user_authenticated \u001b[38;5;241m=\u001b[39m \u001b[38;5;28;01mFalse\u001b[39;00m\n\u001b[1;32m----> 2\u001b[0m \u001b[43mview_dashboard\u001b[49m\u001b[43m(\u001b[49m\u001b[43m)\u001b[49m\n",
      "Cell \u001b[1;32mIn[1], line 10\u001b[0m, in \u001b[0;36mrequire_authentication.<locals>.wrapper\u001b[1;34m(*args, **kwargs)\u001b[0m\n\u001b[0;32m      8\u001b[0m     \u001b[38;5;28;01mreturn\u001b[39;00m func(\u001b[38;5;241m*\u001b[39margs, \u001b[38;5;241m*\u001b[39m\u001b[38;5;241m*\u001b[39mkwargs) \u001b[38;5;66;03m# función original\u001b[39;00m\n\u001b[0;32m      9\u001b[0m \u001b[38;5;28;01melse\u001b[39;00m:\n\u001b[1;32m---> 10\u001b[0m     \u001b[38;5;28;01mraise\u001b[39;00m \u001b[38;5;167;01mException\u001b[39;00m(\u001b[38;5;124m\"\u001b[39m\u001b[38;5;124mUsuario no autenticado. Acceso denegado.\u001b[39m\u001b[38;5;124m\"\u001b[39m)\n",
      "\u001b[1;31mException\u001b[0m: Usuario no autenticado. Acceso denegado."
     ]
    }
   ],
   "source": [
    "user_authenticated = False\n",
    "view_dashboard()"
   ]
  },
  {
   "cell_type": "markdown",
   "id": "76854652",
   "metadata": {},
   "source": [
    "Otro ejemplo:"
   ]
  },
  {
   "cell_type": "code",
   "execution_count": 5,
   "id": "b3ce4af9",
   "metadata": {},
   "outputs": [],
   "source": [
    "import functools\n",
    "import datetime\n",
    "\n",
    "def log_execution(func):\n",
    "    @functools.wraps(func)\n",
    "    def wrapper(*args, **kwargs):\n",
    "        start_time = datetime.datetime.now()\n",
    "        print(f\"Función {func.__name__} iniciada a las {start_time}\")\n",
    "\n",
    "        result = func(*args, **kwargs)\n",
    "\n",
    "        end_time = datetime.datetime.now()\n",
    "        print(f\"Función {func.__name__} finalizada a las {end_time}\")\n",
    "        print(f\"Tiempo total: {end_time - start_time}\")\n",
    "\n",
    "        return result\n",
    "\n",
    "    return wrapper\n",
    "\n",
    "\n",
    "@log_execution\n",
    "def calculate_sum(a, b):\n",
    "    return a + b\n",
    "\n",
    "@log_execution\n",
    "def say_hello(name):\n",
    "    return f\"Hola, {name}!\"\n",
    "\n",
    "@log_execution\n",
    "def find_max_value(values):\n",
    "    return max(values)\n"
   ]
  },
  {
   "cell_type": "code",
   "execution_count": 9,
   "id": "d2728dd7",
   "metadata": {},
   "outputs": [
    {
     "name": "stdout",
     "output_type": "stream",
     "text": [
      "Función calculate_sum iniciada a las 2024-09-12 10:49:38.784997\n",
      "Función calculate_sum finalizada a las 2024-09-12 10:49:38.785390\n",
      "Tiempo total: 0:00:00.000393\n"
     ]
    },
    {
     "data": {
      "text/plain": [
       "1.0952453878899998e+81"
      ]
     },
     "execution_count": 9,
     "metadata": {},
     "output_type": "execute_result"
    }
   ],
   "source": [
    "calculate_sum(10e80, 9.524538789e79)"
   ]
  },
  {
   "cell_type": "code",
   "execution_count": 10,
   "id": "90b70655",
   "metadata": {},
   "outputs": [
    {
     "name": "stdout",
     "output_type": "stream",
     "text": [
      "Función say_hello iniciada a las 2024-09-12 10:49:44.338424\n",
      "Función say_hello finalizada a las 2024-09-12 10:49:44.338424\n",
      "Tiempo total: 0:00:00\n"
     ]
    },
    {
     "data": {
      "text/plain": [
       "'Hola, Daniel Godoy!'"
      ]
     },
     "execution_count": 10,
     "metadata": {},
     "output_type": "execute_result"
    }
   ],
   "source": [
    "say_hello(\"Daniel Godoy\")"
   ]
  },
  {
   "cell_type": "code",
   "execution_count": 11,
   "id": "ff47d039",
   "metadata": {},
   "outputs": [
    {
     "name": "stdout",
     "output_type": "stream",
     "text": [
      "Función find_max_value iniciada a las 2024-09-12 10:49:50.025542\n",
      "Función find_max_value finalizada a las 2024-09-12 10:49:50.025542\n",
      "Tiempo total: 0:00:00\n"
     ]
    },
    {
     "data": {
      "text/plain": [
       "5"
      ]
     },
     "execution_count": 11,
     "metadata": {},
     "output_type": "execute_result"
    }
   ],
   "source": [
    "find_max_value([1,2,3,4,5])"
   ]
  },
  {
   "cell_type": "markdown",
   "id": "4368c4d4",
   "metadata": {},
   "source": [
    "El uso de @functools.wraps en un decorador es una práctica recomendada en Python para preservar información sobre la función original que está siendo decorada. Vamos a desglosar por qué es importante:\n",
    "\n",
    "Preserva la Identidad de la Función Original: Sin @functools.wraps, la función decorada perdería su nombre y documentación originales. Esto se debe a que el decorador reemplaza la función original con wrapper, una nueva función. Al usar @functools.wraps, se copian el nombre, el docstring y otros atributos de la función original a la función decoradora (wrapper).\n",
    "\n",
    "Facilita la Depuración y la Legibilidad: Al preservar el nombre y la documentación de la función original, es más fácil entender y depurar el código, especialmente cuando se utilizan herramientas de introspección o se generan documentaciones automáticas."
   ]
  },
  {
   "cell_type": "code",
   "execution_count": 12,
   "id": "d8ff5ad3",
   "metadata": {},
   "outputs": [
    {
     "name": "stdout",
     "output_type": "stream",
     "text": [
      "Tiempo de ejecución: 1.00 segundos\n"
     ]
    }
   ],
   "source": [
    "import time\n",
    "\n",
    "def registrar_tiempo(func): # aquí defino el decorador, su argumento es una función #func#\n",
    "    def envoltorio(*args, **kwargs): #aquí defino que hará el decorador con la función o lo que es lo mismo cual es la función que retorna el decorador\n",
    "        inicio = time.time()\n",
    "        resultado = func(*args, **kwargs)\n",
    "        fin = time.time()\n",
    "        tiempo_transcurrido = fin - inicio\n",
    "        print(f\"Tiempo de ejecución: {tiempo_transcurrido:.2f} segundos\")\n",
    "        return resultado  #Este es el objeto que retornara la nueva función \"envoltorio\"\n",
    "    return envoltorio #señalo que lo que retornara el decordaror registrar_tiempo es la función envoltorio\n",
    "\n",
    "@registrar_tiempo\n",
    "def mi_funcion():\n",
    "    time.sleep(1)\n",
    "\n",
    "mi_funcion()"
   ]
  },
  {
   "cell_type": "markdown",
   "id": "5e3a7236",
   "metadata": {},
   "source": [
    "# Sintáxis General"
   ]
  },
  {
   "cell_type": "code",
   "execution_count": null,
   "id": "8d7275ad",
   "metadata": {},
   "outputs": [],
   "source": [
    "def my_decorator(func): #DEclaro el decorador y la función argumento\n",
    "    def wrapper(*args, **kwargs): #defino la nueva función que dará el decorador\n",
    "        # Código a ejecutar antes de la función original\n",
    "        result = func(*args, **kwargs)  # Llamada a la función original\n",
    "        # Código a ejecutar después de la función original\n",
    "        return result #objeto que retornara la nueva función\n",
    "    return wrapper #código para señalar que el decorador retorna la nueva función\n",
    "\n",
    "@my_decorator\n",
    "def my_function():\n",
    "    # Cuerpo de la función\n",
    "    pass\n"
   ]
  },
  {
   "cell_type": "markdown",
   "id": "edc1a523",
   "metadata": {},
   "source": [
    "# AUTOR"
   ]
  },
  {
   "cell_type": "markdown",
   "id": "056bc0aa",
   "metadata": {},
   "source": [
    "**Andrés Daniel Godoy Ortiz**\n",
    "\n",
    "Docente Universidad Externado de Colombia y Universidad de la Sabana"
   ]
  }
 ],
 "metadata": {
  "kernelspec": {
   "display_name": "Python 3 (ipykernel)",
   "language": "python",
   "name": "python3"
  },
  "language_info": {
   "codemirror_mode": {
    "name": "ipython",
    "version": 3
   },
   "file_extension": ".py",
   "mimetype": "text/x-python",
   "name": "python",
   "nbconvert_exporter": "python",
   "pygments_lexer": "ipython3",
   "version": "3.11.9"
  }
 },
 "nbformat": 4,
 "nbformat_minor": 5
}
